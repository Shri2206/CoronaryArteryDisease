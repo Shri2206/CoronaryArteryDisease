{
  "nbformat": 4,
  "nbformat_minor": 0,
  "metadata": {
    "colab": {
      "name": "coronary_artery_disease.ipynb",
      "provenance": []
    },
    "kernelspec": {
      "name": "python3",
      "display_name": "Python 3"
    }
  },
  "cells": [
    {
      "cell_type": "markdown",
      "metadata": {
        "id": "W0lsRe91DXHJ"
      },
      "source": [
        "# **Coronary Artery Disease Prediction using Neural Networks**\n",
        "\n",
        "### **Description**\n",
        "\n",
        "The coronary arteries are the blood vessels that carry blood to the heart. Coronary artery disease refers to the narrowing or blockage of the coronary arteries. If the heart does not get enough blood, it cannot get the oxygen and nutrients that it requires to function efficiently. This can cause chest pain or a heart attack. It is caused by plaque buildup in the walls of the arteries. Based on attributes such as blood pressure, cholestoral levels, heart rate, and other characteristic attributes, it can be diagonsed that whether a patient is suffering from the disease or not. Moreover, patients can be classified according to varying degrees of coronary artery disease. This would enhance the medical treatment by suggesting appropriate measures that are required to be adopted to deal with the respective condition of the patient.\n",
        "\n",
        "\n",
        "\n",
        "\n",
        "![coronary-artery-disease.jpg](data:image/jpeg;base64,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)\n",
        "\n",
        "Source of the image: https://www.cdc.gov/heartdisease/coronary_ad.htm\n",
        "\n"
      ]
    },
    {
      "cell_type": "markdown",
      "metadata": {
        "id": "jA5A4T9HIp73"
      },
      "source": [
        "### **Requirements**\n",
        "\n",
        "*   Python: 3.7.3\n",
        "*   Pandas: 0.24.2\n",
        "*   Numpy: 1.16.2\n",
        "*   Sklearn: 0.20.3\n",
        "*   Matplotlib: 3.0.3\n",
        "*   Keras: 2.2.4\n",
        "*   Seaborn: 0.11.1\n",
        "\n",
        "\n",
        "\n",
        "\n",
        "\n",
        "\n",
        "\n",
        "\n"
      ]
    },
    {
      "cell_type": "code",
      "metadata": {
        "id": "MOrKIuODJBT1"
      },
      "source": [
        "# Import necessary libraries\n",
        "\n",
        "import sys\n",
        "import pandas as pd\n",
        "import numpy as np\n",
        "import sklearn\n",
        "import matplotlib\n",
        "import keras\n",
        "import matplotlib.pyplot as plt\n",
        "import seaborn as sns\n",
        "from pandas.plotting import scatter_matrix"
      ],
      "execution_count": 12,
      "outputs": []
    },
    {
      "cell_type": "markdown",
      "metadata": {
        "id": "CdFdITEjJ8-k"
      },
      "source": [
        "### **Dataset**\n",
        "\n",
        "This project uses a dataset of 303 patients, distributed by the UCI Machine Learning Repository. "
      ]
    },
    {
      "cell_type": "code",
      "metadata": {
        "id": "TqLXXLLGKhZQ",
        "outputId": "12d99800-c47e-4715-d312-f8c307a6341f",
        "colab": {
          "base_uri": "https://localhost:8080/"
        }
      },
      "source": [
        "# Load the dataset to df\n",
        "\n",
        "url = \"http://archive.ics.uci.edu/ml/machine-learning-databases/heart-disease/processed.cleveland.data\"\n",
        "names = ['age', 'sex', 'cp', 'trestbps', 'chol', 'fbs', 'restecg',\n",
        "        'thalach', 'exang', 'oldpeak', 'slope', 'ca', 'thal', 'class']\n",
        "df = pd.read_csv(url, names=names)\n",
        "\n",
        "# Examine the dataset\n",
        "print(\"Shape of the dataframe: {}\".format(df.shape))\n",
        "print(df.loc[1])\n"
      ],
      "execution_count": 8,
      "outputs": [
        {
          "output_type": "stream",
          "text": [
            "Shape of the dataframe: (303, 14)\n",
            "age          67\n",
            "sex           1\n",
            "cp            4\n",
            "trestbps    160\n",
            "chol        286\n",
            "fbs           0\n",
            "restecg       2\n",
            "thalach     108\n",
            "exang         1\n",
            "oldpeak     1.5\n",
            "slope         2\n",
            "ca          3.0\n",
            "thal        3.0\n",
            "class         2\n",
            "Name: 1, dtype: object\n"
          ],
          "name": "stdout"
        }
      ]
    },
    {
      "cell_type": "markdown",
      "metadata": {
        "id": "67N-oc9BTfJo"
      },
      "source": [
        "### **Data Pre-processing**"
      ]
    },
    {
      "cell_type": "code",
      "metadata": {
        "id": "tv8YJAaWK0xE",
        "outputId": "ef264f62-f346-421d-c89b-c215ff6d957b",
        "colab": {
          "base_uri": "https://localhost:8080/",
          "height": 669
        }
      },
      "source": [
        "# Examine the first twenty entries\n",
        "\n",
        "df.loc[:20]"
      ],
      "execution_count": 9,
      "outputs": [
        {
          "output_type": "execute_result",
          "data": {
            "text/html": [
              "<div>\n",
              "<style scoped>\n",
              "    .dataframe tbody tr th:only-of-type {\n",
              "        vertical-align: middle;\n",
              "    }\n",
              "\n",
              "    .dataframe tbody tr th {\n",
              "        vertical-align: top;\n",
              "    }\n",
              "\n",
              "    .dataframe thead th {\n",
              "        text-align: right;\n",
              "    }\n",
              "</style>\n",
              "<table border=\"1\" class=\"dataframe\">\n",
              "  <thead>\n",
              "    <tr style=\"text-align: right;\">\n",
              "      <th></th>\n",
              "      <th>age</th>\n",
              "      <th>sex</th>\n",
              "      <th>cp</th>\n",
              "      <th>trestbps</th>\n",
              "      <th>chol</th>\n",
              "      <th>fbs</th>\n",
              "      <th>restecg</th>\n",
              "      <th>thalach</th>\n",
              "      <th>exang</th>\n",
              "      <th>oldpeak</th>\n",
              "      <th>slope</th>\n",
              "      <th>ca</th>\n",
              "      <th>thal</th>\n",
              "      <th>class</th>\n",
              "    </tr>\n",
              "  </thead>\n",
              "  <tbody>\n",
              "    <tr>\n",
              "      <th>0</th>\n",
              "      <td>63.0</td>\n",
              "      <td>1.0</td>\n",
              "      <td>1.0</td>\n",
              "      <td>145.0</td>\n",
              "      <td>233.0</td>\n",
              "      <td>1.0</td>\n",
              "      <td>2.0</td>\n",
              "      <td>150.0</td>\n",
              "      <td>0.0</td>\n",
              "      <td>2.3</td>\n",
              "      <td>3.0</td>\n",
              "      <td>0.0</td>\n",
              "      <td>6.0</td>\n",
              "      <td>0</td>\n",
              "    </tr>\n",
              "    <tr>\n",
              "      <th>1</th>\n",
              "      <td>67.0</td>\n",
              "      <td>1.0</td>\n",
              "      <td>4.0</td>\n",
              "      <td>160.0</td>\n",
              "      <td>286.0</td>\n",
              "      <td>0.0</td>\n",
              "      <td>2.0</td>\n",
              "      <td>108.0</td>\n",
              "      <td>1.0</td>\n",
              "      <td>1.5</td>\n",
              "      <td>2.0</td>\n",
              "      <td>3.0</td>\n",
              "      <td>3.0</td>\n",
              "      <td>2</td>\n",
              "    </tr>\n",
              "    <tr>\n",
              "      <th>2</th>\n",
              "      <td>67.0</td>\n",
              "      <td>1.0</td>\n",
              "      <td>4.0</td>\n",
              "      <td>120.0</td>\n",
              "      <td>229.0</td>\n",
              "      <td>0.0</td>\n",
              "      <td>2.0</td>\n",
              "      <td>129.0</td>\n",
              "      <td>1.0</td>\n",
              "      <td>2.6</td>\n",
              "      <td>2.0</td>\n",
              "      <td>2.0</td>\n",
              "      <td>7.0</td>\n",
              "      <td>1</td>\n",
              "    </tr>\n",
              "    <tr>\n",
              "      <th>3</th>\n",
              "      <td>37.0</td>\n",
              "      <td>1.0</td>\n",
              "      <td>3.0</td>\n",
              "      <td>130.0</td>\n",
              "      <td>250.0</td>\n",
              "      <td>0.0</td>\n",
              "      <td>0.0</td>\n",
              "      <td>187.0</td>\n",
              "      <td>0.0</td>\n",
              "      <td>3.5</td>\n",
              "      <td>3.0</td>\n",
              "      <td>0.0</td>\n",
              "      <td>3.0</td>\n",
              "      <td>0</td>\n",
              "    </tr>\n",
              "    <tr>\n",
              "      <th>4</th>\n",
              "      <td>41.0</td>\n",
              "      <td>0.0</td>\n",
              "      <td>2.0</td>\n",
              "      <td>130.0</td>\n",
              "      <td>204.0</td>\n",
              "      <td>0.0</td>\n",
              "      <td>2.0</td>\n",
              "      <td>172.0</td>\n",
              "      <td>0.0</td>\n",
              "      <td>1.4</td>\n",
              "      <td>1.0</td>\n",
              "      <td>0.0</td>\n",
              "      <td>3.0</td>\n",
              "      <td>0</td>\n",
              "    </tr>\n",
              "    <tr>\n",
              "      <th>5</th>\n",
              "      <td>56.0</td>\n",
              "      <td>1.0</td>\n",
              "      <td>2.0</td>\n",
              "      <td>120.0</td>\n",
              "      <td>236.0</td>\n",
              "      <td>0.0</td>\n",
              "      <td>0.0</td>\n",
              "      <td>178.0</td>\n",
              "      <td>0.0</td>\n",
              "      <td>0.8</td>\n",
              "      <td>1.0</td>\n",
              "      <td>0.0</td>\n",
              "      <td>3.0</td>\n",
              "      <td>0</td>\n",
              "    </tr>\n",
              "    <tr>\n",
              "      <th>6</th>\n",
              "      <td>62.0</td>\n",
              "      <td>0.0</td>\n",
              "      <td>4.0</td>\n",
              "      <td>140.0</td>\n",
              "      <td>268.0</td>\n",
              "      <td>0.0</td>\n",
              "      <td>2.0</td>\n",
              "      <td>160.0</td>\n",
              "      <td>0.0</td>\n",
              "      <td>3.6</td>\n",
              "      <td>3.0</td>\n",
              "      <td>2.0</td>\n",
              "      <td>3.0</td>\n",
              "      <td>3</td>\n",
              "    </tr>\n",
              "    <tr>\n",
              "      <th>7</th>\n",
              "      <td>57.0</td>\n",
              "      <td>0.0</td>\n",
              "      <td>4.0</td>\n",
              "      <td>120.0</td>\n",
              "      <td>354.0</td>\n",
              "      <td>0.0</td>\n",
              "      <td>0.0</td>\n",
              "      <td>163.0</td>\n",
              "      <td>1.0</td>\n",
              "      <td>0.6</td>\n",
              "      <td>1.0</td>\n",
              "      <td>0.0</td>\n",
              "      <td>3.0</td>\n",
              "      <td>0</td>\n",
              "    </tr>\n",
              "    <tr>\n",
              "      <th>8</th>\n",
              "      <td>63.0</td>\n",
              "      <td>1.0</td>\n",
              "      <td>4.0</td>\n",
              "      <td>130.0</td>\n",
              "      <td>254.0</td>\n",
              "      <td>0.0</td>\n",
              "      <td>2.0</td>\n",
              "      <td>147.0</td>\n",
              "      <td>0.0</td>\n",
              "      <td>1.4</td>\n",
              "      <td>2.0</td>\n",
              "      <td>1.0</td>\n",
              "      <td>7.0</td>\n",
              "      <td>2</td>\n",
              "    </tr>\n",
              "    <tr>\n",
              "      <th>9</th>\n",
              "      <td>53.0</td>\n",
              "      <td>1.0</td>\n",
              "      <td>4.0</td>\n",
              "      <td>140.0</td>\n",
              "      <td>203.0</td>\n",
              "      <td>1.0</td>\n",
              "      <td>2.0</td>\n",
              "      <td>155.0</td>\n",
              "      <td>1.0</td>\n",
              "      <td>3.1</td>\n",
              "      <td>3.0</td>\n",
              "      <td>0.0</td>\n",
              "      <td>7.0</td>\n",
              "      <td>1</td>\n",
              "    </tr>\n",
              "    <tr>\n",
              "      <th>10</th>\n",
              "      <td>57.0</td>\n",
              "      <td>1.0</td>\n",
              "      <td>4.0</td>\n",
              "      <td>140.0</td>\n",
              "      <td>192.0</td>\n",
              "      <td>0.0</td>\n",
              "      <td>0.0</td>\n",
              "      <td>148.0</td>\n",
              "      <td>0.0</td>\n",
              "      <td>0.4</td>\n",
              "      <td>2.0</td>\n",
              "      <td>0.0</td>\n",
              "      <td>6.0</td>\n",
              "      <td>0</td>\n",
              "    </tr>\n",
              "    <tr>\n",
              "      <th>11</th>\n",
              "      <td>56.0</td>\n",
              "      <td>0.0</td>\n",
              "      <td>2.0</td>\n",
              "      <td>140.0</td>\n",
              "      <td>294.0</td>\n",
              "      <td>0.0</td>\n",
              "      <td>2.0</td>\n",
              "      <td>153.0</td>\n",
              "      <td>0.0</td>\n",
              "      <td>1.3</td>\n",
              "      <td>2.0</td>\n",
              "      <td>0.0</td>\n",
              "      <td>3.0</td>\n",
              "      <td>0</td>\n",
              "    </tr>\n",
              "    <tr>\n",
              "      <th>12</th>\n",
              "      <td>56.0</td>\n",
              "      <td>1.0</td>\n",
              "      <td>3.0</td>\n",
              "      <td>130.0</td>\n",
              "      <td>256.0</td>\n",
              "      <td>1.0</td>\n",
              "      <td>2.0</td>\n",
              "      <td>142.0</td>\n",
              "      <td>1.0</td>\n",
              "      <td>0.6</td>\n",
              "      <td>2.0</td>\n",
              "      <td>1.0</td>\n",
              "      <td>6.0</td>\n",
              "      <td>2</td>\n",
              "    </tr>\n",
              "    <tr>\n",
              "      <th>13</th>\n",
              "      <td>44.0</td>\n",
              "      <td>1.0</td>\n",
              "      <td>2.0</td>\n",
              "      <td>120.0</td>\n",
              "      <td>263.0</td>\n",
              "      <td>0.0</td>\n",
              "      <td>0.0</td>\n",
              "      <td>173.0</td>\n",
              "      <td>0.0</td>\n",
              "      <td>0.0</td>\n",
              "      <td>1.0</td>\n",
              "      <td>0.0</td>\n",
              "      <td>7.0</td>\n",
              "      <td>0</td>\n",
              "    </tr>\n",
              "    <tr>\n",
              "      <th>14</th>\n",
              "      <td>52.0</td>\n",
              "      <td>1.0</td>\n",
              "      <td>3.0</td>\n",
              "      <td>172.0</td>\n",
              "      <td>199.0</td>\n",
              "      <td>1.0</td>\n",
              "      <td>0.0</td>\n",
              "      <td>162.0</td>\n",
              "      <td>0.0</td>\n",
              "      <td>0.5</td>\n",
              "      <td>1.0</td>\n",
              "      <td>0.0</td>\n",
              "      <td>7.0</td>\n",
              "      <td>0</td>\n",
              "    </tr>\n",
              "    <tr>\n",
              "      <th>15</th>\n",
              "      <td>57.0</td>\n",
              "      <td>1.0</td>\n",
              "      <td>3.0</td>\n",
              "      <td>150.0</td>\n",
              "      <td>168.0</td>\n",
              "      <td>0.0</td>\n",
              "      <td>0.0</td>\n",
              "      <td>174.0</td>\n",
              "      <td>0.0</td>\n",
              "      <td>1.6</td>\n",
              "      <td>1.0</td>\n",
              "      <td>0.0</td>\n",
              "      <td>3.0</td>\n",
              "      <td>0</td>\n",
              "    </tr>\n",
              "    <tr>\n",
              "      <th>16</th>\n",
              "      <td>48.0</td>\n",
              "      <td>1.0</td>\n",
              "      <td>2.0</td>\n",
              "      <td>110.0</td>\n",
              "      <td>229.0</td>\n",
              "      <td>0.0</td>\n",
              "      <td>0.0</td>\n",
              "      <td>168.0</td>\n",
              "      <td>0.0</td>\n",
              "      <td>1.0</td>\n",
              "      <td>3.0</td>\n",
              "      <td>0.0</td>\n",
              "      <td>7.0</td>\n",
              "      <td>1</td>\n",
              "    </tr>\n",
              "    <tr>\n",
              "      <th>17</th>\n",
              "      <td>54.0</td>\n",
              "      <td>1.0</td>\n",
              "      <td>4.0</td>\n",
              "      <td>140.0</td>\n",
              "      <td>239.0</td>\n",
              "      <td>0.0</td>\n",
              "      <td>0.0</td>\n",
              "      <td>160.0</td>\n",
              "      <td>0.0</td>\n",
              "      <td>1.2</td>\n",
              "      <td>1.0</td>\n",
              "      <td>0.0</td>\n",
              "      <td>3.0</td>\n",
              "      <td>0</td>\n",
              "    </tr>\n",
              "    <tr>\n",
              "      <th>18</th>\n",
              "      <td>48.0</td>\n",
              "      <td>0.0</td>\n",
              "      <td>3.0</td>\n",
              "      <td>130.0</td>\n",
              "      <td>275.0</td>\n",
              "      <td>0.0</td>\n",
              "      <td>0.0</td>\n",
              "      <td>139.0</td>\n",
              "      <td>0.0</td>\n",
              "      <td>0.2</td>\n",
              "      <td>1.0</td>\n",
              "      <td>0.0</td>\n",
              "      <td>3.0</td>\n",
              "      <td>0</td>\n",
              "    </tr>\n",
              "    <tr>\n",
              "      <th>19</th>\n",
              "      <td>49.0</td>\n",
              "      <td>1.0</td>\n",
              "      <td>2.0</td>\n",
              "      <td>130.0</td>\n",
              "      <td>266.0</td>\n",
              "      <td>0.0</td>\n",
              "      <td>0.0</td>\n",
              "      <td>171.0</td>\n",
              "      <td>0.0</td>\n",
              "      <td>0.6</td>\n",
              "      <td>1.0</td>\n",
              "      <td>0.0</td>\n",
              "      <td>3.0</td>\n",
              "      <td>0</td>\n",
              "    </tr>\n",
              "    <tr>\n",
              "      <th>20</th>\n",
              "      <td>64.0</td>\n",
              "      <td>1.0</td>\n",
              "      <td>1.0</td>\n",
              "      <td>110.0</td>\n",
              "      <td>211.0</td>\n",
              "      <td>0.0</td>\n",
              "      <td>2.0</td>\n",
              "      <td>144.0</td>\n",
              "      <td>1.0</td>\n",
              "      <td>1.8</td>\n",
              "      <td>2.0</td>\n",
              "      <td>0.0</td>\n",
              "      <td>3.0</td>\n",
              "      <td>0</td>\n",
              "    </tr>\n",
              "  </tbody>\n",
              "</table>\n",
              "</div>"
            ],
            "text/plain": [
              "     age  sex   cp  trestbps   chol  ...  oldpeak  slope   ca  thal  class\n",
              "0   63.0  1.0  1.0     145.0  233.0  ...      2.3    3.0  0.0   6.0      0\n",
              "1   67.0  1.0  4.0     160.0  286.0  ...      1.5    2.0  3.0   3.0      2\n",
              "2   67.0  1.0  4.0     120.0  229.0  ...      2.6    2.0  2.0   7.0      1\n",
              "3   37.0  1.0  3.0     130.0  250.0  ...      3.5    3.0  0.0   3.0      0\n",
              "4   41.0  0.0  2.0     130.0  204.0  ...      1.4    1.0  0.0   3.0      0\n",
              "5   56.0  1.0  2.0     120.0  236.0  ...      0.8    1.0  0.0   3.0      0\n",
              "6   62.0  0.0  4.0     140.0  268.0  ...      3.6    3.0  2.0   3.0      3\n",
              "7   57.0  0.0  4.0     120.0  354.0  ...      0.6    1.0  0.0   3.0      0\n",
              "8   63.0  1.0  4.0     130.0  254.0  ...      1.4    2.0  1.0   7.0      2\n",
              "9   53.0  1.0  4.0     140.0  203.0  ...      3.1    3.0  0.0   7.0      1\n",
              "10  57.0  1.0  4.0     140.0  192.0  ...      0.4    2.0  0.0   6.0      0\n",
              "11  56.0  0.0  2.0     140.0  294.0  ...      1.3    2.0  0.0   3.0      0\n",
              "12  56.0  1.0  3.0     130.0  256.0  ...      0.6    2.0  1.0   6.0      2\n",
              "13  44.0  1.0  2.0     120.0  263.0  ...      0.0    1.0  0.0   7.0      0\n",
              "14  52.0  1.0  3.0     172.0  199.0  ...      0.5    1.0  0.0   7.0      0\n",
              "15  57.0  1.0  3.0     150.0  168.0  ...      1.6    1.0  0.0   3.0      0\n",
              "16  48.0  1.0  2.0     110.0  229.0  ...      1.0    3.0  0.0   7.0      1\n",
              "17  54.0  1.0  4.0     140.0  239.0  ...      1.2    1.0  0.0   3.0      0\n",
              "18  48.0  0.0  3.0     130.0  275.0  ...      0.2    1.0  0.0   3.0      0\n",
              "19  49.0  1.0  2.0     130.0  266.0  ...      0.6    1.0  0.0   3.0      0\n",
              "20  64.0  1.0  1.0     110.0  211.0  ...      1.8    2.0  0.0   3.0      0\n",
              "\n",
              "[21 rows x 14 columns]"
            ]
          },
          "metadata": {
            "tags": []
          },
          "execution_count": 9
        }
      ]
    },
    {
      "cell_type": "code",
      "metadata": {
        "id": "VlBqg6QlLNq4",
        "outputId": "9e7e074b-7587-457c-9c71-63f72a85ae14",
        "colab": {
          "base_uri": "https://localhost:8080/",
          "height": 728
        }
      },
      "source": [
        "# Examine the last twenty entries\n",
        "\n",
        "df.loc[280:]"
      ],
      "execution_count": 10,
      "outputs": [
        {
          "output_type": "execute_result",
          "data": {
            "text/html": [
              "<div>\n",
              "<style scoped>\n",
              "    .dataframe tbody tr th:only-of-type {\n",
              "        vertical-align: middle;\n",
              "    }\n",
              "\n",
              "    .dataframe tbody tr th {\n",
              "        vertical-align: top;\n",
              "    }\n",
              "\n",
              "    .dataframe thead th {\n",
              "        text-align: right;\n",
              "    }\n",
              "</style>\n",
              "<table border=\"1\" class=\"dataframe\">\n",
              "  <thead>\n",
              "    <tr style=\"text-align: right;\">\n",
              "      <th></th>\n",
              "      <th>age</th>\n",
              "      <th>sex</th>\n",
              "      <th>cp</th>\n",
              "      <th>trestbps</th>\n",
              "      <th>chol</th>\n",
              "      <th>fbs</th>\n",
              "      <th>restecg</th>\n",
              "      <th>thalach</th>\n",
              "      <th>exang</th>\n",
              "      <th>oldpeak</th>\n",
              "      <th>slope</th>\n",
              "      <th>ca</th>\n",
              "      <th>thal</th>\n",
              "      <th>class</th>\n",
              "    </tr>\n",
              "  </thead>\n",
              "  <tbody>\n",
              "    <tr>\n",
              "      <th>280</th>\n",
              "      <td>57.0</td>\n",
              "      <td>1.0</td>\n",
              "      <td>4.0</td>\n",
              "      <td>110.0</td>\n",
              "      <td>335.0</td>\n",
              "      <td>0.0</td>\n",
              "      <td>0.0</td>\n",
              "      <td>143.0</td>\n",
              "      <td>1.0</td>\n",
              "      <td>3.0</td>\n",
              "      <td>2.0</td>\n",
              "      <td>1.0</td>\n",
              "      <td>7.0</td>\n",
              "      <td>2</td>\n",
              "    </tr>\n",
              "    <tr>\n",
              "      <th>281</th>\n",
              "      <td>47.0</td>\n",
              "      <td>1.0</td>\n",
              "      <td>3.0</td>\n",
              "      <td>130.0</td>\n",
              "      <td>253.0</td>\n",
              "      <td>0.0</td>\n",
              "      <td>0.0</td>\n",
              "      <td>179.0</td>\n",
              "      <td>0.0</td>\n",
              "      <td>0.0</td>\n",
              "      <td>1.0</td>\n",
              "      <td>0.0</td>\n",
              "      <td>3.0</td>\n",
              "      <td>0</td>\n",
              "    </tr>\n",
              "    <tr>\n",
              "      <th>282</th>\n",
              "      <td>55.0</td>\n",
              "      <td>0.0</td>\n",
              "      <td>4.0</td>\n",
              "      <td>128.0</td>\n",
              "      <td>205.0</td>\n",
              "      <td>0.0</td>\n",
              "      <td>1.0</td>\n",
              "      <td>130.0</td>\n",
              "      <td>1.0</td>\n",
              "      <td>2.0</td>\n",
              "      <td>2.0</td>\n",
              "      <td>1.0</td>\n",
              "      <td>7.0</td>\n",
              "      <td>3</td>\n",
              "    </tr>\n",
              "    <tr>\n",
              "      <th>283</th>\n",
              "      <td>35.0</td>\n",
              "      <td>1.0</td>\n",
              "      <td>2.0</td>\n",
              "      <td>122.0</td>\n",
              "      <td>192.0</td>\n",
              "      <td>0.0</td>\n",
              "      <td>0.0</td>\n",
              "      <td>174.0</td>\n",
              "      <td>0.0</td>\n",
              "      <td>0.0</td>\n",
              "      <td>1.0</td>\n",
              "      <td>0.0</td>\n",
              "      <td>3.0</td>\n",
              "      <td>0</td>\n",
              "    </tr>\n",
              "    <tr>\n",
              "      <th>284</th>\n",
              "      <td>61.0</td>\n",
              "      <td>1.0</td>\n",
              "      <td>4.0</td>\n",
              "      <td>148.0</td>\n",
              "      <td>203.0</td>\n",
              "      <td>0.0</td>\n",
              "      <td>0.0</td>\n",
              "      <td>161.0</td>\n",
              "      <td>0.0</td>\n",
              "      <td>0.0</td>\n",
              "      <td>1.0</td>\n",
              "      <td>1.0</td>\n",
              "      <td>7.0</td>\n",
              "      <td>2</td>\n",
              "    </tr>\n",
              "    <tr>\n",
              "      <th>285</th>\n",
              "      <td>58.0</td>\n",
              "      <td>1.0</td>\n",
              "      <td>4.0</td>\n",
              "      <td>114.0</td>\n",
              "      <td>318.0</td>\n",
              "      <td>0.0</td>\n",
              "      <td>1.0</td>\n",
              "      <td>140.0</td>\n",
              "      <td>0.0</td>\n",
              "      <td>4.4</td>\n",
              "      <td>3.0</td>\n",
              "      <td>3.0</td>\n",
              "      <td>6.0</td>\n",
              "      <td>4</td>\n",
              "    </tr>\n",
              "    <tr>\n",
              "      <th>286</th>\n",
              "      <td>58.0</td>\n",
              "      <td>0.0</td>\n",
              "      <td>4.0</td>\n",
              "      <td>170.0</td>\n",
              "      <td>225.0</td>\n",
              "      <td>1.0</td>\n",
              "      <td>2.0</td>\n",
              "      <td>146.0</td>\n",
              "      <td>1.0</td>\n",
              "      <td>2.8</td>\n",
              "      <td>2.0</td>\n",
              "      <td>2.0</td>\n",
              "      <td>6.0</td>\n",
              "      <td>2</td>\n",
              "    </tr>\n",
              "    <tr>\n",
              "      <th>287</th>\n",
              "      <td>58.0</td>\n",
              "      <td>1.0</td>\n",
              "      <td>2.0</td>\n",
              "      <td>125.0</td>\n",
              "      <td>220.0</td>\n",
              "      <td>0.0</td>\n",
              "      <td>0.0</td>\n",
              "      <td>144.0</td>\n",
              "      <td>0.0</td>\n",
              "      <td>0.4</td>\n",
              "      <td>2.0</td>\n",
              "      <td>?</td>\n",
              "      <td>7.0</td>\n",
              "      <td>0</td>\n",
              "    </tr>\n",
              "    <tr>\n",
              "      <th>288</th>\n",
              "      <td>56.0</td>\n",
              "      <td>1.0</td>\n",
              "      <td>2.0</td>\n",
              "      <td>130.0</td>\n",
              "      <td>221.0</td>\n",
              "      <td>0.0</td>\n",
              "      <td>2.0</td>\n",
              "      <td>163.0</td>\n",
              "      <td>0.0</td>\n",
              "      <td>0.0</td>\n",
              "      <td>1.0</td>\n",
              "      <td>0.0</td>\n",
              "      <td>7.0</td>\n",
              "      <td>0</td>\n",
              "    </tr>\n",
              "    <tr>\n",
              "      <th>289</th>\n",
              "      <td>56.0</td>\n",
              "      <td>1.0</td>\n",
              "      <td>2.0</td>\n",
              "      <td>120.0</td>\n",
              "      <td>240.0</td>\n",
              "      <td>0.0</td>\n",
              "      <td>0.0</td>\n",
              "      <td>169.0</td>\n",
              "      <td>0.0</td>\n",
              "      <td>0.0</td>\n",
              "      <td>3.0</td>\n",
              "      <td>0.0</td>\n",
              "      <td>3.0</td>\n",
              "      <td>0</td>\n",
              "    </tr>\n",
              "    <tr>\n",
              "      <th>290</th>\n",
              "      <td>67.0</td>\n",
              "      <td>1.0</td>\n",
              "      <td>3.0</td>\n",
              "      <td>152.0</td>\n",
              "      <td>212.0</td>\n",
              "      <td>0.0</td>\n",
              "      <td>2.0</td>\n",
              "      <td>150.0</td>\n",
              "      <td>0.0</td>\n",
              "      <td>0.8</td>\n",
              "      <td>2.0</td>\n",
              "      <td>0.0</td>\n",
              "      <td>7.0</td>\n",
              "      <td>1</td>\n",
              "    </tr>\n",
              "    <tr>\n",
              "      <th>291</th>\n",
              "      <td>55.0</td>\n",
              "      <td>0.0</td>\n",
              "      <td>2.0</td>\n",
              "      <td>132.0</td>\n",
              "      <td>342.0</td>\n",
              "      <td>0.0</td>\n",
              "      <td>0.0</td>\n",
              "      <td>166.0</td>\n",
              "      <td>0.0</td>\n",
              "      <td>1.2</td>\n",
              "      <td>1.0</td>\n",
              "      <td>0.0</td>\n",
              "      <td>3.0</td>\n",
              "      <td>0</td>\n",
              "    </tr>\n",
              "    <tr>\n",
              "      <th>292</th>\n",
              "      <td>44.0</td>\n",
              "      <td>1.0</td>\n",
              "      <td>4.0</td>\n",
              "      <td>120.0</td>\n",
              "      <td>169.0</td>\n",
              "      <td>0.0</td>\n",
              "      <td>0.0</td>\n",
              "      <td>144.0</td>\n",
              "      <td>1.0</td>\n",
              "      <td>2.8</td>\n",
              "      <td>3.0</td>\n",
              "      <td>0.0</td>\n",
              "      <td>6.0</td>\n",
              "      <td>2</td>\n",
              "    </tr>\n",
              "    <tr>\n",
              "      <th>293</th>\n",
              "      <td>63.0</td>\n",
              "      <td>1.0</td>\n",
              "      <td>4.0</td>\n",
              "      <td>140.0</td>\n",
              "      <td>187.0</td>\n",
              "      <td>0.0</td>\n",
              "      <td>2.0</td>\n",
              "      <td>144.0</td>\n",
              "      <td>1.0</td>\n",
              "      <td>4.0</td>\n",
              "      <td>1.0</td>\n",
              "      <td>2.0</td>\n",
              "      <td>7.0</td>\n",
              "      <td>2</td>\n",
              "    </tr>\n",
              "    <tr>\n",
              "      <th>294</th>\n",
              "      <td>63.0</td>\n",
              "      <td>0.0</td>\n",
              "      <td>4.0</td>\n",
              "      <td>124.0</td>\n",
              "      <td>197.0</td>\n",
              "      <td>0.0</td>\n",
              "      <td>0.0</td>\n",
              "      <td>136.0</td>\n",
              "      <td>1.0</td>\n",
              "      <td>0.0</td>\n",
              "      <td>2.0</td>\n",
              "      <td>0.0</td>\n",
              "      <td>3.0</td>\n",
              "      <td>1</td>\n",
              "    </tr>\n",
              "    <tr>\n",
              "      <th>295</th>\n",
              "      <td>41.0</td>\n",
              "      <td>1.0</td>\n",
              "      <td>2.0</td>\n",
              "      <td>120.0</td>\n",
              "      <td>157.0</td>\n",
              "      <td>0.0</td>\n",
              "      <td>0.0</td>\n",
              "      <td>182.0</td>\n",
              "      <td>0.0</td>\n",
              "      <td>0.0</td>\n",
              "      <td>1.0</td>\n",
              "      <td>0.0</td>\n",
              "      <td>3.0</td>\n",
              "      <td>0</td>\n",
              "    </tr>\n",
              "    <tr>\n",
              "      <th>296</th>\n",
              "      <td>59.0</td>\n",
              "      <td>1.0</td>\n",
              "      <td>4.0</td>\n",
              "      <td>164.0</td>\n",
              "      <td>176.0</td>\n",
              "      <td>1.0</td>\n",
              "      <td>2.0</td>\n",
              "      <td>90.0</td>\n",
              "      <td>0.0</td>\n",
              "      <td>1.0</td>\n",
              "      <td>2.0</td>\n",
              "      <td>2.0</td>\n",
              "      <td>6.0</td>\n",
              "      <td>3</td>\n",
              "    </tr>\n",
              "    <tr>\n",
              "      <th>297</th>\n",
              "      <td>57.0</td>\n",
              "      <td>0.0</td>\n",
              "      <td>4.0</td>\n",
              "      <td>140.0</td>\n",
              "      <td>241.0</td>\n",
              "      <td>0.0</td>\n",
              "      <td>0.0</td>\n",
              "      <td>123.0</td>\n",
              "      <td>1.0</td>\n",
              "      <td>0.2</td>\n",
              "      <td>2.0</td>\n",
              "      <td>0.0</td>\n",
              "      <td>7.0</td>\n",
              "      <td>1</td>\n",
              "    </tr>\n",
              "    <tr>\n",
              "      <th>298</th>\n",
              "      <td>45.0</td>\n",
              "      <td>1.0</td>\n",
              "      <td>1.0</td>\n",
              "      <td>110.0</td>\n",
              "      <td>264.0</td>\n",
              "      <td>0.0</td>\n",
              "      <td>0.0</td>\n",
              "      <td>132.0</td>\n",
              "      <td>0.0</td>\n",
              "      <td>1.2</td>\n",
              "      <td>2.0</td>\n",
              "      <td>0.0</td>\n",
              "      <td>7.0</td>\n",
              "      <td>1</td>\n",
              "    </tr>\n",
              "    <tr>\n",
              "      <th>299</th>\n",
              "      <td>68.0</td>\n",
              "      <td>1.0</td>\n",
              "      <td>4.0</td>\n",
              "      <td>144.0</td>\n",
              "      <td>193.0</td>\n",
              "      <td>1.0</td>\n",
              "      <td>0.0</td>\n",
              "      <td>141.0</td>\n",
              "      <td>0.0</td>\n",
              "      <td>3.4</td>\n",
              "      <td>2.0</td>\n",
              "      <td>2.0</td>\n",
              "      <td>7.0</td>\n",
              "      <td>2</td>\n",
              "    </tr>\n",
              "    <tr>\n",
              "      <th>300</th>\n",
              "      <td>57.0</td>\n",
              "      <td>1.0</td>\n",
              "      <td>4.0</td>\n",
              "      <td>130.0</td>\n",
              "      <td>131.0</td>\n",
              "      <td>0.0</td>\n",
              "      <td>0.0</td>\n",
              "      <td>115.0</td>\n",
              "      <td>1.0</td>\n",
              "      <td>1.2</td>\n",
              "      <td>2.0</td>\n",
              "      <td>1.0</td>\n",
              "      <td>7.0</td>\n",
              "      <td>3</td>\n",
              "    </tr>\n",
              "    <tr>\n",
              "      <th>301</th>\n",
              "      <td>57.0</td>\n",
              "      <td>0.0</td>\n",
              "      <td>2.0</td>\n",
              "      <td>130.0</td>\n",
              "      <td>236.0</td>\n",
              "      <td>0.0</td>\n",
              "      <td>2.0</td>\n",
              "      <td>174.0</td>\n",
              "      <td>0.0</td>\n",
              "      <td>0.0</td>\n",
              "      <td>2.0</td>\n",
              "      <td>1.0</td>\n",
              "      <td>3.0</td>\n",
              "      <td>1</td>\n",
              "    </tr>\n",
              "    <tr>\n",
              "      <th>302</th>\n",
              "      <td>38.0</td>\n",
              "      <td>1.0</td>\n",
              "      <td>3.0</td>\n",
              "      <td>138.0</td>\n",
              "      <td>175.0</td>\n",
              "      <td>0.0</td>\n",
              "      <td>0.0</td>\n",
              "      <td>173.0</td>\n",
              "      <td>0.0</td>\n",
              "      <td>0.0</td>\n",
              "      <td>1.0</td>\n",
              "      <td>?</td>\n",
              "      <td>3.0</td>\n",
              "      <td>0</td>\n",
              "    </tr>\n",
              "  </tbody>\n",
              "</table>\n",
              "</div>"
            ],
            "text/plain": [
              "      age  sex   cp  trestbps   chol  ...  oldpeak  slope   ca  thal  class\n",
              "280  57.0  1.0  4.0     110.0  335.0  ...      3.0    2.0  1.0   7.0      2\n",
              "281  47.0  1.0  3.0     130.0  253.0  ...      0.0    1.0  0.0   3.0      0\n",
              "282  55.0  0.0  4.0     128.0  205.0  ...      2.0    2.0  1.0   7.0      3\n",
              "283  35.0  1.0  2.0     122.0  192.0  ...      0.0    1.0  0.0   3.0      0\n",
              "284  61.0  1.0  4.0     148.0  203.0  ...      0.0    1.0  1.0   7.0      2\n",
              "285  58.0  1.0  4.0     114.0  318.0  ...      4.4    3.0  3.0   6.0      4\n",
              "286  58.0  0.0  4.0     170.0  225.0  ...      2.8    2.0  2.0   6.0      2\n",
              "287  58.0  1.0  2.0     125.0  220.0  ...      0.4    2.0    ?   7.0      0\n",
              "288  56.0  1.0  2.0     130.0  221.0  ...      0.0    1.0  0.0   7.0      0\n",
              "289  56.0  1.0  2.0     120.0  240.0  ...      0.0    3.0  0.0   3.0      0\n",
              "290  67.0  1.0  3.0     152.0  212.0  ...      0.8    2.0  0.0   7.0      1\n",
              "291  55.0  0.0  2.0     132.0  342.0  ...      1.2    1.0  0.0   3.0      0\n",
              "292  44.0  1.0  4.0     120.0  169.0  ...      2.8    3.0  0.0   6.0      2\n",
              "293  63.0  1.0  4.0     140.0  187.0  ...      4.0    1.0  2.0   7.0      2\n",
              "294  63.0  0.0  4.0     124.0  197.0  ...      0.0    2.0  0.0   3.0      1\n",
              "295  41.0  1.0  2.0     120.0  157.0  ...      0.0    1.0  0.0   3.0      0\n",
              "296  59.0  1.0  4.0     164.0  176.0  ...      1.0    2.0  2.0   6.0      3\n",
              "297  57.0  0.0  4.0     140.0  241.0  ...      0.2    2.0  0.0   7.0      1\n",
              "298  45.0  1.0  1.0     110.0  264.0  ...      1.2    2.0  0.0   7.0      1\n",
              "299  68.0  1.0  4.0     144.0  193.0  ...      3.4    2.0  2.0   7.0      2\n",
              "300  57.0  1.0  4.0     130.0  131.0  ...      1.2    2.0  1.0   7.0      3\n",
              "301  57.0  0.0  2.0     130.0  236.0  ...      0.0    2.0  1.0   3.0      1\n",
              "302  38.0  1.0  3.0     138.0  175.0  ...      0.0    1.0    ?   3.0      0\n",
              "\n",
              "[23 rows x 14 columns]"
            ]
          },
          "metadata": {
            "tags": []
          },
          "execution_count": 10
        }
      ]
    },
    {
      "cell_type": "markdown",
      "metadata": {
        "id": "YHD_Kk5PMkci"
      },
      "source": [
        "### **Missing Data**\n",
        "\n",
        "Seaborn can be used to create a simple heatmap to see the missing values."
      ]
    },
    {
      "cell_type": "code",
      "metadata": {
        "id": "hXcMTmW3M0ai",
        "outputId": "e7e45d50-dad2-40d4-d2a3-a9c03214f93b",
        "colab": {
          "base_uri": "https://localhost:8080/",
          "height": 313
        }
      },
      "source": [
        "sns.heatmap(df.isnull(),yticklabels=False,cbar=False,cmap='viridis')"
      ],
      "execution_count": 13,
      "outputs": [
        {
          "output_type": "execute_result",
          "data": {
            "text/plain": [
              "<matplotlib.axes._subplots.AxesSubplot at 0x7f005dd3e7b8>"
            ]
          },
          "metadata": {
            "tags": []
          },
          "execution_count": 13
        },
        {
          "output_type": "display_data",
          "data": {
            "image/png": "[encoded data removed]",
            "text/plain": [
              "<Figure size 432x288 with 1 Axes>"
            ]
          },
          "metadata": {
            "tags": [],
            "needs_background": "light"
          }
        }
      ]
    },
    {
      "cell_type": "code",
      "metadata": {
        "id": "E2Cr4u6ITsPR"
      },
      "source": [
        "# Remove missing data, denoted by \"?\"\n",
        "df = df[~df.isin(['?'])]"
      ],
      "execution_count": 29,
      "outputs": []
    },
    {
      "cell_type": "code",
      "metadata": {
        "id": "_xfQY2YkTx1O"
      },
      "source": [
        "# Drop rows with NaN\n",
        "df = df.dropna(axis=0)"
      ],
      "execution_count": 30,
      "outputs": []
    },
    {
      "cell_type": "code",
      "metadata": {
        "id": "wwlFjLjlTziU",
        "outputId": "6068306d-4fc0-4604-d6a4-0c2acd7070f4",
        "colab": {
          "base_uri": "https://localhost:8080/"
        }
      },
      "source": [
        "# Re-examine the shape and data type of df\n",
        "print(df.shape)\n",
        "print(df.dtypes)"
      ],
      "execution_count": 31,
      "outputs": [
        {
          "output_type": "stream",
          "text": [
            "(297, 14)\n",
            "age         float64\n",
            "sex         float64\n",
            "cp          float64\n",
            "trestbps    float64\n",
            "chol        float64\n",
            "fbs         float64\n",
            "restecg     float64\n",
            "thalach     float64\n",
            "exang       float64\n",
            "oldpeak     float64\n",
            "slope       float64\n",
            "ca          float64\n",
            "thal        float64\n",
            "class         int64\n",
            "dtype: object\n"
          ],
          "name": "stdout"
        }
      ]
    },
    {
      "cell_type": "code",
      "metadata": {
        "id": "ay3mkHmgT7kx",
        "outputId": "3acc4170-d705-4860-fcf0-91fe214c9aea",
        "colab": {
          "base_uri": "https://localhost:8080/"
        }
      },
      "source": [
        "# Convert data into numeric \n",
        "df = df.apply(pd.to_numeric)\n",
        "print(df.dtypes)"
      ],
      "execution_count": 32,
      "outputs": [
        {
          "output_type": "stream",
          "text": [
            "age         float64\n",
            "sex         float64\n",
            "cp          float64\n",
            "trestbps    float64\n",
            "chol        float64\n",
            "fbs         float64\n",
            "restecg     float64\n",
            "thalach     float64\n",
            "exang       float64\n",
            "oldpeak     float64\n",
            "slope       float64\n",
            "ca          float64\n",
            "thal        float64\n",
            "class         int64\n",
            "dtype: object\n"
          ],
          "name": "stdout"
        }
      ]
    },
    {
      "cell_type": "code",
      "metadata": {
        "id": "t4W4o54LUBUv",
        "outputId": "a308fad4-e72a-481c-a0a7-eb061bf1d93c",
        "colab": {
          "base_uri": "https://localhost:8080/",
          "height": 284
        }
      },
      "source": [
        "# Description of the modified dataset\n",
        "df.describe()"
      ],
      "execution_count": 33,
      "outputs": [
        {
          "output_type": "execute_result",
          "data": {
            "text/html": [
              "<div>\n",
              "<style scoped>\n",
              "    .dataframe tbody tr th:only-of-type {\n",
              "        vertical-align: middle;\n",
              "    }\n",
              "\n",
              "    .dataframe tbody tr th {\n",
              "        vertical-align: top;\n",
              "    }\n",
              "\n",
              "    .dataframe thead th {\n",
              "        text-align: right;\n",
              "    }\n",
              "</style>\n",
              "<table border=\"1\" class=\"dataframe\">\n",
              "  <thead>\n",
              "    <tr style=\"text-align: right;\">\n",
              "      <th></th>\n",
              "      <th>age</th>\n",
              "      <th>sex</th>\n",
              "      <th>cp</th>\n",
              "      <th>trestbps</th>\n",
              "      <th>chol</th>\n",
              "      <th>fbs</th>\n",
              "      <th>restecg</th>\n",
              "      <th>thalach</th>\n",
              "      <th>exang</th>\n",
              "      <th>oldpeak</th>\n",
              "      <th>slope</th>\n",
              "      <th>ca</th>\n",
              "      <th>thal</th>\n",
              "      <th>class</th>\n",
              "    </tr>\n",
              "  </thead>\n",
              "  <tbody>\n",
              "    <tr>\n",
              "      <th>count</th>\n",
              "      <td>297.000000</td>\n",
              "      <td>297.000000</td>\n",
              "      <td>297.000000</td>\n",
              "      <td>297.000000</td>\n",
              "      <td>297.000000</td>\n",
              "      <td>297.000000</td>\n",
              "      <td>297.000000</td>\n",
              "      <td>297.000000</td>\n",
              "      <td>297.000000</td>\n",
              "      <td>297.000000</td>\n",
              "      <td>297.000000</td>\n",
              "      <td>297.000000</td>\n",
              "      <td>297.000000</td>\n",
              "      <td>297.000000</td>\n",
              "    </tr>\n",
              "    <tr>\n",
              "      <th>mean</th>\n",
              "      <td>54.542088</td>\n",
              "      <td>0.676768</td>\n",
              "      <td>3.158249</td>\n",
              "      <td>131.693603</td>\n",
              "      <td>247.350168</td>\n",
              "      <td>0.144781</td>\n",
              "      <td>0.996633</td>\n",
              "      <td>149.599327</td>\n",
              "      <td>0.326599</td>\n",
              "      <td>1.055556</td>\n",
              "      <td>1.602694</td>\n",
              "      <td>0.676768</td>\n",
              "      <td>4.730640</td>\n",
              "      <td>0.946128</td>\n",
              "    </tr>\n",
              "    <tr>\n",
              "      <th>std</th>\n",
              "      <td>9.049736</td>\n",
              "      <td>0.468500</td>\n",
              "      <td>0.964859</td>\n",
              "      <td>17.762806</td>\n",
              "      <td>51.997583</td>\n",
              "      <td>0.352474</td>\n",
              "      <td>0.994914</td>\n",
              "      <td>22.941562</td>\n",
              "      <td>0.469761</td>\n",
              "      <td>1.166123</td>\n",
              "      <td>0.618187</td>\n",
              "      <td>0.938965</td>\n",
              "      <td>1.938629</td>\n",
              "      <td>1.234551</td>\n",
              "    </tr>\n",
              "    <tr>\n",
              "      <th>min</th>\n",
              "      <td>29.000000</td>\n",
              "      <td>0.000000</td>\n",
              "      <td>1.000000</td>\n",
              "      <td>94.000000</td>\n",
              "      <td>126.000000</td>\n",
              "      <td>0.000000</td>\n",
              "      <td>0.000000</td>\n",
              "      <td>71.000000</td>\n",
              "      <td>0.000000</td>\n",
              "      <td>0.000000</td>\n",
              "      <td>1.000000</td>\n",
              "      <td>0.000000</td>\n",
              "      <td>3.000000</td>\n",
              "      <td>0.000000</td>\n",
              "    </tr>\n",
              "    <tr>\n",
              "      <th>25%</th>\n",
              "      <td>48.000000</td>\n",
              "      <td>0.000000</td>\n",
              "      <td>3.000000</td>\n",
              "      <td>120.000000</td>\n",
              "      <td>211.000000</td>\n",
              "      <td>0.000000</td>\n",
              "      <td>0.000000</td>\n",
              "      <td>133.000000</td>\n",
              "      <td>0.000000</td>\n",
              "      <td>0.000000</td>\n",
              "      <td>1.000000</td>\n",
              "      <td>0.000000</td>\n",
              "      <td>3.000000</td>\n",
              "      <td>0.000000</td>\n",
              "    </tr>\n",
              "    <tr>\n",
              "      <th>50%</th>\n",
              "      <td>56.000000</td>\n",
              "      <td>1.000000</td>\n",
              "      <td>3.000000</td>\n",
              "      <td>130.000000</td>\n",
              "      <td>243.000000</td>\n",
              "      <td>0.000000</td>\n",
              "      <td>1.000000</td>\n",
              "      <td>153.000000</td>\n",
              "      <td>0.000000</td>\n",
              "      <td>0.800000</td>\n",
              "      <td>2.000000</td>\n",
              "      <td>0.000000</td>\n",
              "      <td>3.000000</td>\n",
              "      <td>0.000000</td>\n",
              "    </tr>\n",
              "    <tr>\n",
              "      <th>75%</th>\n",
              "      <td>61.000000</td>\n",
              "      <td>1.000000</td>\n",
              "      <td>4.000000</td>\n",
              "      <td>140.000000</td>\n",
              "      <td>276.000000</td>\n",
              "      <td>0.000000</td>\n",
              "      <td>2.000000</td>\n",
              "      <td>166.000000</td>\n",
              "      <td>1.000000</td>\n",
              "      <td>1.600000</td>\n",
              "      <td>2.000000</td>\n",
              "      <td>1.000000</td>\n",
              "      <td>7.000000</td>\n",
              "      <td>2.000000</td>\n",
              "    </tr>\n",
              "    <tr>\n",
              "      <th>max</th>\n",
              "      <td>77.000000</td>\n",
              "      <td>1.000000</td>\n",
              "      <td>4.000000</td>\n",
              "      <td>200.000000</td>\n",
              "      <td>564.000000</td>\n",
              "      <td>1.000000</td>\n",
              "      <td>2.000000</td>\n",
              "      <td>202.000000</td>\n",
              "      <td>1.000000</td>\n",
              "      <td>6.200000</td>\n",
              "      <td>3.000000</td>\n",
              "      <td>3.000000</td>\n",
              "      <td>7.000000</td>\n",
              "      <td>4.000000</td>\n",
              "    </tr>\n",
              "  </tbody>\n",
              "</table>\n",
              "</div>"
            ],
            "text/plain": [
              "              age         sex          cp  ...          ca        thal       class\n",
              "count  297.000000  297.000000  297.000000  ...  297.000000  297.000000  297.000000\n",
              "mean    54.542088    0.676768    3.158249  ...    0.676768    4.730640    0.946128\n",
              "std      9.049736    0.468500    0.964859  ...    0.938965    1.938629    1.234551\n",
              "min     29.000000    0.000000    1.000000  ...    0.000000    3.000000    0.000000\n",
              "25%     48.000000    0.000000    3.000000  ...    0.000000    3.000000    0.000000\n",
              "50%     56.000000    1.000000    3.000000  ...    0.000000    3.000000    0.000000\n",
              "75%     61.000000    1.000000    4.000000  ...    1.000000    7.000000    2.000000\n",
              "max     77.000000    1.000000    4.000000  ...    3.000000    7.000000    4.000000\n",
              "\n",
              "[8 rows x 14 columns]"
            ]
          },
          "metadata": {
            "tags": []
          },
          "execution_count": 33
        }
      ]
    },
    {
      "cell_type": "markdown",
      "metadata": {
        "id": "S4s6wd8gUU-4"
      },
      "source": [
        "### **Exploratory Data Analysis**"
      ]
    },
    {
      "cell_type": "code",
      "metadata": {
        "id": "0-WhNVNyTE_M",
        "outputId": "c6425a44-e605-4931-ce29-813750eb5532",
        "colab": {
          "base_uri": "https://localhost:8080/",
          "height": 607
        }
      },
      "source": [
        "# Plot histograms for each variable\n",
        "df.hist(figsize=(10, 10))\n",
        "plt.show()"
      ],
      "execution_count": 34,
      "outputs": [
        {
          "output_type": "display_data",
          "data": {
            "image/png": "[encoded data removed]",
            "text/plain": [
              "<Figure size 720x720 with 16 Axes>"
            ]
          },
          "metadata": {
            "tags": []
          }
        }
      ]
    },
    {
      "cell_type": "markdown",
      "metadata": {
        "id": "6UhSrVl4NePJ"
      },
      "source": [
        "Plot to show the number of patients that belong to each category of the disease."
      ]
    },
    {
      "cell_type": "code",
      "metadata": {
        "id": "WdS7vTUYM8MI",
        "outputId": "72a3000c-5fbc-451a-a60c-67cc15add58d",
        "colab": {
          "base_uri": "https://localhost:8080/",
          "height": 296
        }
      },
      "source": [
        "sns.set_style('whitegrid')\n",
        "sns.countplot(x='class',data=df)"
      ],
      "execution_count": 35,
      "outputs": [
        {
          "output_type": "execute_result",
          "data": {
            "text/plain": [
              "<matplotlib.axes._subplots.AxesSubplot at 0x7f0058850e80>"
            ]
          },
          "metadata": {
            "tags": []
          },
          "execution_count": 35
        },
        {
          "output_type": "display_data",
          "data": {
            "image/png": "[encoded data removed]",
            "text/plain": [
              "<Figure size 432x288 with 1 Axes>"
            ]
          },
          "metadata": {
            "tags": []
          }
        }
      ]
    },
    {
      "cell_type": "markdown",
      "metadata": {
        "id": "ZdQdDDDPNvQV"
      },
      "source": [
        "Plot to show the number of samples present corresponding to the ages(in years).\n"
      ]
    },
    {
      "cell_type": "code",
      "metadata": {
        "id": "RZWTHj4NOBSG",
        "outputId": "7a787f3b-becd-4b9d-8ed6-0d0b8b3f2062",
        "colab": {
          "base_uri": "https://localhost:8080/",
          "height": 282
        }
      },
      "source": [
        "df['age'].hist(color='green',bins=40,figsize=(8,4))"
      ],
      "execution_count": 36,
      "outputs": [
        {
          "output_type": "execute_result",
          "data": {
            "text/plain": [
              "<matplotlib.axes._subplots.AxesSubplot at 0x7f0058871ac8>"
            ]
          },
          "metadata": {
            "tags": []
          },
          "execution_count": 36
        },
        {
          "output_type": "display_data",
          "data": {
            "image/png": "[encoded data removed]",
            "text/plain": [
              "<Figure size 576x288 with 1 Axes>"
            ]
          },
          "metadata": {
            "tags": []
          }
        }
      ]
    },
    {
      "cell_type": "markdown",
      "metadata": {
        "id": "EhpwOhuFSZ3F"
      },
      "source": [
        "Plot to show the count of male(1.0) and female(0.0) patients that suffer from various degrees of the disease."
      ]
    },
    {
      "cell_type": "code",
      "metadata": {
        "id": "u9ZAbt-YOFOR",
        "outputId": "fda5bd06-72c8-4ba8-cef1-3815578fa59f",
        "colab": {
          "base_uri": "https://localhost:8080/",
          "height": 296
        }
      },
      "source": [
        "sns.set_style('whitegrid')\n",
        "sns.countplot(x='class',hue='sex',data=df,palette='RdBu_r')\n"
      ],
      "execution_count": 37,
      "outputs": [
        {
          "output_type": "execute_result",
          "data": {
            "text/plain": [
              "<matplotlib.axes._subplots.AxesSubplot at 0x7f0058a1ea90>"
            ]
          },
          "metadata": {
            "tags": []
          },
          "execution_count": 37
        },
        {
          "output_type": "display_data",
          "data": {
            "image/png": "[encoded data removed]",
            "text/plain": [
              "<Figure size 432x288 with 1 Axes>"
            ]
          },
          "metadata": {
            "tags": []
          }
        }
      ]
    },
    {
      "cell_type": "markdown",
      "metadata": {
        "id": "6EmLdLj_P_a9"
      },
      "source": [
        "1 denotes male and 0 denotes female."
      ]
    },
    {
      "cell_type": "code",
      "metadata": {
        "id": "URTbgda9Oj_I",
        "outputId": "faa3f892-307a-43f8-da08-0a6bd200629d",
        "colab": {
          "base_uri": "https://localhost:8080/",
          "height": 296
        }
      },
      "source": [
        "sns.set_style('whitegrid')\n",
        "sns.countplot(x='class',hue='cp',data=df,palette='rainbow')"
      ],
      "execution_count": 38,
      "outputs": [
        {
          "output_type": "execute_result",
          "data": {
            "text/plain": [
              "<matplotlib.axes._subplots.AxesSubplot at 0x7f00586fd4e0>"
            ]
          },
          "metadata": {
            "tags": []
          },
          "execution_count": 38
        },
        {
          "output_type": "display_data",
          "data": {
            "image/png": "[encoded data removed]",
            "text/plain": [
              "<Figure size 432x288 with 1 Axes>"
            ]
          },
          "metadata": {
            "tags": []
          }
        }
      ]
    },
    {
      "cell_type": "markdown",
      "metadata": {
        "id": "DT9BsqCNR1ui"
      },
      "source": [
        "cp denotes 'Chest Pain Type'."
      ]
    },
    {
      "cell_type": "markdown",
      "metadata": {
        "id": "mVF_83RjUjLM"
      },
      "source": [
        "### **Creating training and testing datasets**"
      ]
    },
    {
      "cell_type": "code",
      "metadata": {
        "id": "KHBDnnMRTLHy"
      },
      "source": [
        "# Create input X and output y for training\n",
        "from sklearn import model_selection\n",
        "\n",
        "X = np.array(df.drop(['class'], axis=1))\n",
        "y = np.array(df['class'])\n",
        "\n",
        "X_train, X_test, y_train, y_test = model_selection.train_test_split(X, y, test_size=0.2)"
      ],
      "execution_count": 39,
      "outputs": []
    },
    {
      "cell_type": "code",
      "metadata": {
        "id": "vpSjXdAMU0Fq",
        "outputId": "8dac426c-c3bb-448e-eb9e-b427d225cf78",
        "colab": {
          "base_uri": "https://localhost:8080/"
        }
      },
      "source": [
        "# Convert the data to categorical labels\n",
        "from keras.utils.np_utils import to_categorical\n",
        "\n",
        "y_train_categorical = to_categorical(y_train, num_classes=None)\n",
        "y_test_categorical = to_categorical(y_test, num_classes=None)\n",
        "\n",
        "print(y_train_categorical.shape)\n",
        "print(y_test_categorical.shape)"
      ],
      "execution_count": 40,
      "outputs": [
        {
          "output_type": "stream",
          "text": [
            "(237, 5)\n",
            "(60, 5)\n"
          ],
          "name": "stdout"
        }
      ]
    },
    {
      "cell_type": "code",
      "metadata": {
        "id": "D4alXMiyU76j",
        "outputId": "44bccd1c-1105-474b-82a8-50032b4aa631",
        "colab": {
          "base_uri": "https://localhost:8080/"
        }
      },
      "source": [
        "print(y_train_categorical[:10])"
      ],
      "execution_count": 41,
      "outputs": [
        {
          "output_type": "stream",
          "text": [
            "[[1. 0. 0. 0. 0.]\n",
            " [0. 1. 0. 0. 0.]\n",
            " [1. 0. 0. 0. 0.]\n",
            " [1. 0. 0. 0. 0.]\n",
            " [0. 0. 1. 0. 0.]\n",
            " [1. 0. 0. 0. 0.]\n",
            " [0. 0. 1. 0. 0.]\n",
            " [0. 0. 0. 1. 0.]\n",
            " [1. 0. 0. 0. 0.]\n",
            " [1. 0. 0. 0. 0.]]\n"
          ],
          "name": "stdout"
        }
      ]
    },
    {
      "cell_type": "markdown",
      "metadata": {
        "id": "UtrvJn5LVEm9"
      },
      "source": [
        "### **Build and train the Neural Network**"
      ]
    },
    {
      "cell_type": "code",
      "metadata": {
        "id": "tZao_myuU_Mg"
      },
      "source": [
        "from keras.models import Sequential\n",
        "from keras.layers import Dense\n",
        "from keras.optimizers import Adam\n",
        "\n",
        "# Define training model\n",
        "def create_model():\n",
        "    \n",
        "    # Create model\n",
        "    model = Sequential()\n",
        "    model.add(Dense(8, input_dim=13, kernel_initializer='normal', activation='relu'))\n",
        "    model.add(Dense(4, kernel_initializer='normal', activation='relu'))\n",
        "    model.add(Dense(5, activation='softmax'))\n",
        "    \n",
        "    # Compile the model\n",
        "    adam = Adam(lr=0.001)\n",
        "    model.compile(loss='categorical_crossentropy', optimizer=adam, metrics=['accuracy'])\n",
        "    \n",
        "    return model"
      ],
      "execution_count": 42,
      "outputs": []
    },
    {
      "cell_type": "code",
      "metadata": {
        "id": "XswQX5yhVTKS",
        "outputId": "52829466-b0d0-49e6-c8ad-d15e0214fc55",
        "colab": {
          "base_uri": "https://localhost:8080/"
        }
      },
      "source": [
        "# Examine the model\n",
        "model = create_model()\n",
        "print(model.summary())"
      ],
      "execution_count": 43,
      "outputs": [
        {
          "output_type": "stream",
          "text": [
            "Model: \"sequential\"\n",
            "_________________________________________________________________\n",
            "Layer (type)                 Output Shape              Param #   \n",
            "=================================================================\n",
            "dense (Dense)                (None, 8)                 112       \n",
            "_________________________________________________________________\n",
            "dense_1 (Dense)              (None, 4)                 36        \n",
            "_________________________________________________________________\n",
            "dense_2 (Dense)              (None, 5)                 25        \n",
            "=================================================================\n",
            "Total params: 173\n",
            "Trainable params: 173\n",
            "Non-trainable params: 0\n",
            "_________________________________________________________________\n",
            "None\n"
          ],
          "name": "stdout"
        }
      ]
    },
    {
      "cell_type": "code",
      "metadata": {
        "id": "SzkMUb-vVWDQ",
        "outputId": "eb750c45-caf2-4600-ebf4-8a4036a5362c",
        "colab": {
          "base_uri": "https://localhost:8080/"
        }
      },
      "source": [
        "# Fit the model to the training data\n",
        "model.fit(X_train, y_train_categorical, epochs=100, batch_size=10, verbose=1)"
      ],
      "execution_count": 44,
      "outputs": [
        {
          "output_type": "stream",
          "text": [
            "Epoch 1/100\n",
            "24/24 [==============================] - 0s 994us/step - loss: 1.5386 - accuracy: 0.1646\n",
            "Epoch 2/100\n",
            "24/24 [==============================] - 0s 994us/step - loss: 1.4235 - accuracy: 0.2827\n",
            "Epoch 3/100\n",
            "24/24 [==============================] - 0s 988us/step - loss: 1.3656 - accuracy: 0.5696\n",
            "Epoch 4/100\n",
            "24/24 [==============================] - 0s 1ms/step - loss: 1.3359 - accuracy: 0.5696\n",
            "Epoch 5/100\n",
            "24/24 [==============================] - 0s 1ms/step - loss: 1.3133 - accuracy: 0.5696\n",
            "Epoch 6/100\n",
            "24/24 [==============================] - 0s 1ms/step - loss: 1.2956 - accuracy: 0.5696\n",
            "Epoch 7/100\n",
            "24/24 [==============================] - 0s 1ms/step - loss: 1.2799 - accuracy: 0.5696\n",
            "Epoch 8/100\n",
            "24/24 [==============================] - 0s 1ms/step - loss: 1.2712 - accuracy: 0.5696\n",
            "Epoch 9/100\n",
            "24/24 [==============================] - 0s 1ms/step - loss: 1.2544 - accuracy: 0.5696\n",
            "Epoch 10/100\n",
            "24/24 [==============================] - 0s 921us/step - loss: 1.2461 - accuracy: 0.5696\n",
            "Epoch 11/100\n",
            "24/24 [==============================] - 0s 1ms/step - loss: 1.2366 - accuracy: 0.5696\n",
            "Epoch 12/100\n",
            "24/24 [==============================] - 0s 1ms/step - loss: 1.2258 - accuracy: 0.5696\n",
            "Epoch 13/100\n",
            "24/24 [==============================] - 0s 1ms/step - loss: 1.2169 - accuracy: 0.5696\n",
            "Epoch 14/100\n",
            "24/24 [==============================] - 0s 991us/step - loss: 1.2081 - accuracy: 0.5696\n",
            "Epoch 15/100\n",
            "24/24 [==============================] - 0s 1ms/step - loss: 1.2003 - accuracy: 0.5696\n",
            "Epoch 16/100\n",
            "24/24 [==============================] - 0s 1ms/step - loss: 1.1931 - accuracy: 0.5696\n",
            "Epoch 17/100\n",
            "24/24 [==============================] - 0s 1ms/step - loss: 1.1801 - accuracy: 0.5696\n",
            "Epoch 18/100\n",
            "24/24 [==============================] - 0s 1ms/step - loss: 1.1733 - accuracy: 0.5696\n",
            "Epoch 19/100\n",
            "24/24 [==============================] - 0s 990us/step - loss: 1.1645 - accuracy: 0.5696\n",
            "Epoch 20/100\n",
            "24/24 [==============================] - 0s 1ms/step - loss: 1.1524 - accuracy: 0.5696\n",
            "Epoch 21/100\n",
            "24/24 [==============================] - 0s 1ms/step - loss: 1.1417 - accuracy: 0.5696\n",
            "Epoch 22/100\n",
            "24/24 [==============================] - 0s 1ms/step - loss: 1.1309 - accuracy: 0.5696\n",
            "Epoch 23/100\n",
            "24/24 [==============================] - 0s 1ms/step - loss: 1.1191 - accuracy: 0.5696\n",
            "Epoch 24/100\n",
            "24/24 [==============================] - 0s 1ms/step - loss: 1.1100 - accuracy: 0.5696\n",
            "Epoch 25/100\n",
            "24/24 [==============================] - 0s 1ms/step - loss: 1.0995 - accuracy: 0.5696\n",
            "Epoch 26/100\n",
            "24/24 [==============================] - 0s 973us/step - loss: 1.0918 - accuracy: 0.5738\n",
            "Epoch 27/100\n",
            "24/24 [==============================] - 0s 1ms/step - loss: 1.0840 - accuracy: 0.5949\n",
            "Epoch 28/100\n",
            "24/24 [==============================] - 0s 1ms/step - loss: 1.0866 - accuracy: 0.5738\n",
            "Epoch 29/100\n",
            "24/24 [==============================] - 0s 1ms/step - loss: 1.0745 - accuracy: 0.5865\n",
            "Epoch 30/100\n",
            "24/24 [==============================] - 0s 1ms/step - loss: 1.0629 - accuracy: 0.5992\n",
            "Epoch 31/100\n",
            "24/24 [==============================] - 0s 990us/step - loss: 1.0649 - accuracy: 0.5992\n",
            "Epoch 32/100\n",
            "24/24 [==============================] - 0s 1ms/step - loss: 1.0510 - accuracy: 0.5949\n",
            "Epoch 33/100\n",
            "24/24 [==============================] - 0s 1ms/step - loss: 1.0432 - accuracy: 0.5992\n",
            "Epoch 34/100\n",
            "24/24 [==============================] - 0s 1ms/step - loss: 1.0358 - accuracy: 0.6076\n",
            "Epoch 35/100\n",
            "24/24 [==============================] - 0s 1ms/step - loss: 1.0311 - accuracy: 0.6034\n",
            "Epoch 36/100\n",
            "24/24 [==============================] - 0s 1ms/step - loss: 1.0351 - accuracy: 0.5992\n",
            "Epoch 37/100\n",
            "24/24 [==============================] - 0s 1ms/step - loss: 1.0179 - accuracy: 0.6118\n",
            "Epoch 38/100\n",
            "24/24 [==============================] - 0s 1ms/step - loss: 1.0164 - accuracy: 0.6118\n",
            "Epoch 39/100\n",
            "24/24 [==============================] - 0s 1ms/step - loss: 1.0082 - accuracy: 0.6076\n",
            "Epoch 40/100\n",
            "24/24 [==============================] - 0s 1ms/step - loss: 1.0070 - accuracy: 0.6118\n",
            "Epoch 41/100\n",
            "24/24 [==============================] - 0s 1ms/step - loss: 1.0051 - accuracy: 0.6118\n",
            "Epoch 42/100\n",
            "24/24 [==============================] - 0s 1ms/step - loss: 0.9972 - accuracy: 0.6118\n",
            "Epoch 43/100\n",
            "24/24 [==============================] - 0s 1ms/step - loss: 0.9916 - accuracy: 0.6160\n",
            "Epoch 44/100\n",
            "24/24 [==============================] - 0s 1ms/step - loss: 0.9877 - accuracy: 0.6160\n",
            "Epoch 45/100\n",
            "24/24 [==============================] - 0s 1ms/step - loss: 0.9855 - accuracy: 0.6118\n",
            "Epoch 46/100\n",
            "24/24 [==============================] - 0s 1ms/step - loss: 0.9813 - accuracy: 0.6203\n",
            "Epoch 47/100\n",
            "24/24 [==============================] - 0s 1ms/step - loss: 0.9818 - accuracy: 0.6160\n",
            "Epoch 48/100\n",
            "24/24 [==============================] - 0s 990us/step - loss: 0.9876 - accuracy: 0.6456\n",
            "Epoch 49/100\n",
            "24/24 [==============================] - 0s 950us/step - loss: 0.9771 - accuracy: 0.6160\n",
            "Epoch 50/100\n",
            "24/24 [==============================] - 0s 1ms/step - loss: 0.9680 - accuracy: 0.6203\n",
            "Epoch 51/100\n",
            "24/24 [==============================] - 0s 1ms/step - loss: 0.9662 - accuracy: 0.6160\n",
            "Epoch 52/100\n",
            "24/24 [==============================] - 0s 1ms/step - loss: 0.9652 - accuracy: 0.6203\n",
            "Epoch 53/100\n",
            "24/24 [==============================] - 0s 1ms/step - loss: 0.9630 - accuracy: 0.6245\n",
            "Epoch 54/100\n",
            "24/24 [==============================] - 0s 1ms/step - loss: 0.9709 - accuracy: 0.6329\n",
            "Epoch 55/100\n",
            "24/24 [==============================] - 0s 1ms/step - loss: 0.9535 - accuracy: 0.6245\n",
            "Epoch 56/100\n",
            "24/24 [==============================] - 0s 1ms/step - loss: 0.9576 - accuracy: 0.6329\n",
            "Epoch 57/100\n",
            "24/24 [==============================] - 0s 1ms/step - loss: 0.9498 - accuracy: 0.6203\n",
            "Epoch 58/100\n",
            "24/24 [==============================] - 0s 1ms/step - loss: 0.9440 - accuracy: 0.6329\n",
            "Epoch 59/100\n",
            "24/24 [==============================] - 0s 1ms/step - loss: 0.9410 - accuracy: 0.6329\n",
            "Epoch 60/100\n",
            "24/24 [==============================] - 0s 1ms/step - loss: 0.9452 - accuracy: 0.6245\n",
            "Epoch 61/100\n",
            "24/24 [==============================] - 0s 1ms/step - loss: 0.9416 - accuracy: 0.6287\n",
            "Epoch 62/100\n",
            "24/24 [==============================] - 0s 1ms/step - loss: 0.9346 - accuracy: 0.6371\n",
            "Epoch 63/100\n",
            "24/24 [==============================] - 0s 1ms/step - loss: 0.9350 - accuracy: 0.6329\n",
            "Epoch 64/100\n",
            "24/24 [==============================] - 0s 1ms/step - loss: 0.9356 - accuracy: 0.6245\n",
            "Epoch 65/100\n",
            "24/24 [==============================] - 0s 1ms/step - loss: 0.9282 - accuracy: 0.6329\n",
            "Epoch 66/100\n",
            "24/24 [==============================] - 0s 1ms/step - loss: 0.9314 - accuracy: 0.6371\n",
            "Epoch 67/100\n",
            "24/24 [==============================] - 0s 1ms/step - loss: 0.9271 - accuracy: 0.6329\n",
            "Epoch 68/100\n",
            "24/24 [==============================] - 0s 1ms/step - loss: 0.9293 - accuracy: 0.6371\n",
            "Epoch 69/100\n",
            "24/24 [==============================] - 0s 1ms/step - loss: 0.9331 - accuracy: 0.6287\n",
            "Epoch 70/100\n",
            "24/24 [==============================] - 0s 1ms/step - loss: 0.9306 - accuracy: 0.6287\n",
            "Epoch 71/100\n",
            "24/24 [==============================] - 0s 1ms/step - loss: 0.9180 - accuracy: 0.6371\n",
            "Epoch 72/100\n",
            "24/24 [==============================] - 0s 1ms/step - loss: 0.9197 - accuracy: 0.6371\n",
            "Epoch 73/100\n",
            "24/24 [==============================] - 0s 1ms/step - loss: 0.9157 - accuracy: 0.6329\n",
            "Epoch 74/100\n",
            "24/24 [==============================] - 0s 1ms/step - loss: 0.9137 - accuracy: 0.6329\n",
            "Epoch 75/100\n",
            "24/24 [==============================] - 0s 1ms/step - loss: 0.9191 - accuracy: 0.6414\n",
            "Epoch 76/100\n",
            "24/24 [==============================] - 0s 1ms/step - loss: 0.9129 - accuracy: 0.6329\n",
            "Epoch 77/100\n",
            "24/24 [==============================] - 0s 1ms/step - loss: 0.9154 - accuracy: 0.6456\n",
            "Epoch 78/100\n",
            "24/24 [==============================] - 0s 1ms/step - loss: 0.9143 - accuracy: 0.6498\n",
            "Epoch 79/100\n",
            "24/24 [==============================] - 0s 1ms/step - loss: 0.9100 - accuracy: 0.6245\n",
            "Epoch 80/100\n",
            "24/24 [==============================] - 0s 1ms/step - loss: 0.9053 - accuracy: 0.6414\n",
            "Epoch 81/100\n",
            "24/24 [==============================] - 0s 1ms/step - loss: 0.9031 - accuracy: 0.6414\n",
            "Epoch 82/100\n",
            "24/24 [==============================] - 0s 1ms/step - loss: 0.9035 - accuracy: 0.6371\n",
            "Epoch 83/100\n",
            "24/24 [==============================] - 0s 1ms/step - loss: 0.9006 - accuracy: 0.6371\n",
            "Epoch 84/100\n",
            "24/24 [==============================] - 0s 1ms/step - loss: 0.9050 - accuracy: 0.6414\n",
            "Epoch 85/100\n",
            "24/24 [==============================] - 0s 1ms/step - loss: 0.9045 - accuracy: 0.6456\n",
            "Epoch 86/100\n",
            "24/24 [==============================] - 0s 1ms/step - loss: 0.9057 - accuracy: 0.6245\n",
            "Epoch 87/100\n",
            "24/24 [==============================] - 0s 1ms/step - loss: 0.9029 - accuracy: 0.6414\n",
            "Epoch 88/100\n",
            "24/24 [==============================] - 0s 1ms/step - loss: 0.8922 - accuracy: 0.6371\n",
            "Epoch 89/100\n",
            "24/24 [==============================] - 0s 1ms/step - loss: 0.9188 - accuracy: 0.6329\n",
            "Epoch 90/100\n",
            "24/24 [==============================] - 0s 1ms/step - loss: 0.8919 - accuracy: 0.6456\n",
            "Epoch 91/100\n",
            "24/24 [==============================] - 0s 1ms/step - loss: 0.8912 - accuracy: 0.6456\n",
            "Epoch 92/100\n",
            "24/24 [==============================] - 0s 1ms/step - loss: 0.9058 - accuracy: 0.6414\n",
            "Epoch 93/100\n",
            "24/24 [==============================] - 0s 1ms/step - loss: 0.9157 - accuracy: 0.6329\n",
            "Epoch 94/100\n",
            "24/24 [==============================] - 0s 1ms/step - loss: 0.8972 - accuracy: 0.6414\n",
            "Epoch 95/100\n",
            "24/24 [==============================] - 0s 1ms/step - loss: 0.8885 - accuracy: 0.6456\n",
            "Epoch 96/100\n",
            "24/24 [==============================] - 0s 1ms/step - loss: 0.8904 - accuracy: 0.6371\n",
            "Epoch 97/100\n",
            "24/24 [==============================] - 0s 2ms/step - loss: 0.8947 - accuracy: 0.6371\n",
            "Epoch 98/100\n",
            "24/24 [==============================] - 0s 1ms/step - loss: 0.8958 - accuracy: 0.6371\n",
            "Epoch 99/100\n",
            "24/24 [==============================] - 0s 1ms/step - loss: 0.8883 - accuracy: 0.6371\n",
            "Epoch 100/100\n",
            "24/24 [==============================] - 0s 1ms/step - loss: 0.8868 - accuracy: 0.6414\n"
          ],
          "name": "stdout"
        },
        {
          "output_type": "execute_result",
          "data": {
            "text/plain": [
              "<tensorflow.python.keras.callbacks.History at 0x7f005104b5c0>"
            ]
          },
          "metadata": {
            "tags": []
          },
          "execution_count": 44
        }
      ]
    },
    {
      "cell_type": "markdown",
      "metadata": {
        "id": "8jG2nzxGWORI"
      },
      "source": [
        "### **Improving results - A binary classification problem**\n",
        "\n",
        "It would be efficient to simplify the problem by converting it into a binary classification problem, i.e., heart disease or no heart disease.\n",
        "Presently, the loss is very high, because it seems to be difficult to distinguish between different levels of heart disease (from 1-4).  "
      ]
    },
    {
      "cell_type": "code",
      "metadata": {
        "id": "_xFc4uGMVb7O",
        "outputId": "e10b031c-e1ec-4ac9-e8a5-72800975be3d",
        "colab": {
          "base_uri": "https://localhost:8080/"
        }
      },
      "source": [
        "# Convert into binary classification problem\n",
        "y_train_binary = y_train.copy()\n",
        "y_test_binary = y_test.copy()\n",
        "\n",
        "y_train_binary[y_train_binary > 0] = 1\n",
        "y_test_binary[y_test_binary > 0] = 1\n",
        "\n",
        "print(y_train_binary[:20])"
      ],
      "execution_count": 45,
      "outputs": [
        {
          "output_type": "stream",
          "text": [
            "[0 1 0 0 1 0 1 1 0 0 0 1 1 1 0 1 0 1 1 0]\n"
          ],
          "name": "stdout"
        }
      ]
    },
    {
      "cell_type": "code",
      "metadata": {
        "id": "vA3QdIKWWp9m"
      },
      "source": [
        "# Define training model\n",
        "def create_binary_model():\n",
        "    # Create model\n",
        "    model = Sequential()\n",
        "    model.add(Dense(8, input_dim=13, kernel_initializer='normal', activation='relu'))\n",
        "    model.add(Dense(4, kernel_initializer='normal', activation='relu'))\n",
        "    model.add(Dense(1, activation='sigmoid'))\n",
        "    \n",
        "    # Compile the model\n",
        "    adam = Adam(lr=0.001)\n",
        "    model.compile(loss='binary_crossentropy', optimizer=adam, metrics=['accuracy'])\n",
        "    \n",
        "    return model"
      ],
      "execution_count": 46,
      "outputs": []
    },
    {
      "cell_type": "code",
      "metadata": {
        "id": "UTF2lAJ-Wv93",
        "outputId": "2cc66077-44b7-4c04-b48d-645816efbfc3",
        "colab": {
          "base_uri": "https://localhost:8080/"
        }
      },
      "source": [
        "# Re-examine the model\n",
        "binary_model = create_binary_model()\n",
        "print(binary_model.summary())"
      ],
      "execution_count": 47,
      "outputs": [
        {
          "output_type": "stream",
          "text": [
            "Model: \"sequential_1\"\n",
            "_________________________________________________________________\n",
            "Layer (type)                 Output Shape              Param #   \n",
            "=================================================================\n",
            "dense_3 (Dense)              (None, 8)                 112       \n",
            "_________________________________________________________________\n",
            "dense_4 (Dense)              (None, 4)                 36        \n",
            "_________________________________________________________________\n",
            "dense_5 (Dense)              (None, 1)                 5         \n",
            "=================================================================\n",
            "Total params: 153\n",
            "Trainable params: 153\n",
            "Non-trainable params: 0\n",
            "_________________________________________________________________\n",
            "None\n"
          ],
          "name": "stdout"
        }
      ]
    },
    {
      "cell_type": "code",
      "metadata": {
        "id": "Mx1YbROaWzoM",
        "outputId": "a63665ba-32d2-4233-880b-521886d3a719",
        "colab": {
          "base_uri": "https://localhost:8080/"
        }
      },
      "source": [
        "# Fit the model on the training data\n",
        "binary_model.fit(X_train, y_train_binary, epochs=100, batch_size=10, verbose=1)"
      ],
      "execution_count": 48,
      "outputs": [
        {
          "output_type": "stream",
          "text": [
            "Epoch 1/100\n",
            "24/24 [==============================] - 0s 1ms/step - loss: 0.7010 - accuracy: 0.5696\n",
            "Epoch 2/100\n",
            "24/24 [==============================] - 0s 981us/step - loss: 0.6929 - accuracy: 0.5696\n",
            "Epoch 3/100\n",
            "24/24 [==============================] - 0s 1ms/step - loss: 0.6811 - accuracy: 0.5696\n",
            "Epoch 4/100\n",
            "24/24 [==============================] - 0s 1ms/step - loss: 0.6795 - accuracy: 0.5696\n",
            "Epoch 5/100\n",
            "24/24 [==============================] - 0s 1ms/step - loss: 0.6667 - accuracy: 0.5696\n",
            "Epoch 6/100\n",
            "24/24 [==============================] - 0s 962us/step - loss: 0.6622 - accuracy: 0.5738\n",
            "Epoch 7/100\n",
            "24/24 [==============================] - 0s 974us/step - loss: 0.6499 - accuracy: 0.5992\n",
            "Epoch 8/100\n",
            "24/24 [==============================] - 0s 1ms/step - loss: 0.6375 - accuracy: 0.6245\n",
            "Epoch 9/100\n",
            "24/24 [==============================] - 0s 1ms/step - loss: 0.6238 - accuracy: 0.7046\n",
            "Epoch 10/100\n",
            "24/24 [==============================] - 0s 1ms/step - loss: 0.6082 - accuracy: 0.7342\n",
            "Epoch 11/100\n",
            "24/24 [==============================] - 0s 1ms/step - loss: 0.5893 - accuracy: 0.7257\n",
            "Epoch 12/100\n",
            "24/24 [==============================] - 0s 1ms/step - loss: 0.5778 - accuracy: 0.7173\n",
            "Epoch 13/100\n",
            "24/24 [==============================] - 0s 985us/step - loss: 0.5720 - accuracy: 0.7300\n",
            "Epoch 14/100\n",
            "24/24 [==============================] - 0s 1ms/step - loss: 0.5501 - accuracy: 0.7511\n",
            "Epoch 15/100\n",
            "24/24 [==============================] - 0s 1ms/step - loss: 0.5286 - accuracy: 0.7722\n",
            "Epoch 16/100\n",
            "24/24 [==============================] - 0s 1ms/step - loss: 0.5273 - accuracy: 0.7764\n",
            "Epoch 17/100\n",
            "24/24 [==============================] - 0s 980us/step - loss: 0.5301 - accuracy: 0.7384\n",
            "Epoch 18/100\n",
            "24/24 [==============================] - 0s 951us/step - loss: 0.5162 - accuracy: 0.7426\n",
            "Epoch 19/100\n",
            "24/24 [==============================] - 0s 995us/step - loss: 0.4910 - accuracy: 0.7637\n",
            "Epoch 20/100\n",
            "24/24 [==============================] - 0s 1ms/step - loss: 0.4870 - accuracy: 0.7722\n",
            "Epoch 21/100\n",
            "24/24 [==============================] - 0s 987us/step - loss: 0.4743 - accuracy: 0.7806\n",
            "Epoch 22/100\n",
            "24/24 [==============================] - 0s 979us/step - loss: 0.4966 - accuracy: 0.7806\n",
            "Epoch 23/100\n",
            "24/24 [==============================] - 0s 1ms/step - loss: 0.4656 - accuracy: 0.7848\n",
            "Epoch 24/100\n",
            "24/24 [==============================] - 0s 1ms/step - loss: 0.4728 - accuracy: 0.7722\n",
            "Epoch 25/100\n",
            "24/24 [==============================] - 0s 1ms/step - loss: 0.4679 - accuracy: 0.7637\n",
            "Epoch 26/100\n",
            "24/24 [==============================] - 0s 984us/step - loss: 0.4517 - accuracy: 0.7932\n",
            "Epoch 27/100\n",
            "24/24 [==============================] - 0s 1000us/step - loss: 0.4358 - accuracy: 0.8143\n",
            "Epoch 28/100\n",
            "24/24 [==============================] - 0s 1ms/step - loss: 0.4600 - accuracy: 0.7890\n",
            "Epoch 29/100\n",
            "24/24 [==============================] - 0s 1ms/step - loss: 0.4432 - accuracy: 0.8143\n",
            "Epoch 30/100\n",
            "24/24 [==============================] - 0s 1ms/step - loss: 0.4451 - accuracy: 0.7932\n",
            "Epoch 31/100\n",
            "24/24 [==============================] - 0s 973us/step - loss: 0.4357 - accuracy: 0.7975\n",
            "Epoch 32/100\n",
            "24/24 [==============================] - 0s 1ms/step - loss: 0.4504 - accuracy: 0.7932\n",
            "Epoch 33/100\n",
            "24/24 [==============================] - 0s 983us/step - loss: 0.4225 - accuracy: 0.8059\n",
            "Epoch 34/100\n",
            "24/24 [==============================] - 0s 1ms/step - loss: 0.4149 - accuracy: 0.8059\n",
            "Epoch 35/100\n",
            "24/24 [==============================] - 0s 1ms/step - loss: 0.4273 - accuracy: 0.8354\n",
            "Epoch 36/100\n",
            "24/24 [==============================] - 0s 1ms/step - loss: 0.4144 - accuracy: 0.7975\n",
            "Epoch 37/100\n",
            "24/24 [==============================] - 0s 1ms/step - loss: 0.4241 - accuracy: 0.8017\n",
            "Epoch 38/100\n",
            "24/24 [==============================] - 0s 1ms/step - loss: 0.4065 - accuracy: 0.8354\n",
            "Epoch 39/100\n",
            "24/24 [==============================] - 0s 1ms/step - loss: 0.4092 - accuracy: 0.8017\n",
            "Epoch 40/100\n",
            "24/24 [==============================] - 0s 1ms/step - loss: 0.4133 - accuracy: 0.8312\n",
            "Epoch 41/100\n",
            "24/24 [==============================] - 0s 1ms/step - loss: 0.4039 - accuracy: 0.8270\n",
            "Epoch 42/100\n",
            "24/24 [==============================] - 0s 1ms/step - loss: 0.4081 - accuracy: 0.8270\n",
            "Epoch 43/100\n",
            "24/24 [==============================] - 0s 1ms/step - loss: 0.3994 - accuracy: 0.8397\n",
            "Epoch 44/100\n",
            "24/24 [==============================] - 0s 1ms/step - loss: 0.3941 - accuracy: 0.8397\n",
            "Epoch 45/100\n",
            "24/24 [==============================] - 0s 1ms/step - loss: 0.4057 - accuracy: 0.8354\n",
            "Epoch 46/100\n",
            "24/24 [==============================] - 0s 1ms/step - loss: 0.3887 - accuracy: 0.8354\n",
            "Epoch 47/100\n",
            "24/24 [==============================] - 0s 995us/step - loss: 0.4070 - accuracy: 0.8186\n",
            "Epoch 48/100\n",
            "24/24 [==============================] - 0s 1ms/step - loss: 0.3860 - accuracy: 0.8481\n",
            "Epoch 49/100\n",
            "24/24 [==============================] - 0s 963us/step - loss: 0.3794 - accuracy: 0.8523\n",
            "Epoch 50/100\n",
            "24/24 [==============================] - 0s 1ms/step - loss: 0.3865 - accuracy: 0.8312\n",
            "Epoch 51/100\n",
            "24/24 [==============================] - 0s 990us/step - loss: 0.3994 - accuracy: 0.8481\n",
            "Epoch 52/100\n",
            "24/24 [==============================] - 0s 1ms/step - loss: 0.3820 - accuracy: 0.8397\n",
            "Epoch 53/100\n",
            "24/24 [==============================] - 0s 1ms/step - loss: 0.3697 - accuracy: 0.8439\n",
            "Epoch 54/100\n",
            "24/24 [==============================] - 0s 1ms/step - loss: 0.3827 - accuracy: 0.8397\n",
            "Epoch 55/100\n",
            "24/24 [==============================] - 0s 1ms/step - loss: 0.3739 - accuracy: 0.8523\n",
            "Epoch 56/100\n",
            "24/24 [==============================] - 0s 1ms/step - loss: 0.3761 - accuracy: 0.8397\n",
            "Epoch 57/100\n",
            "24/24 [==============================] - 0s 1ms/step - loss: 0.3926 - accuracy: 0.8523\n",
            "Epoch 58/100\n",
            "24/24 [==============================] - 0s 1ms/step - loss: 0.3899 - accuracy: 0.8397\n",
            "Epoch 59/100\n",
            "24/24 [==============================] - 0s 1ms/step - loss: 0.3824 - accuracy: 0.8312\n",
            "Epoch 60/100\n",
            "24/24 [==============================] - 0s 1ms/step - loss: 0.3725 - accuracy: 0.8481\n",
            "Epoch 61/100\n",
            "24/24 [==============================] - 0s 1ms/step - loss: 0.3936 - accuracy: 0.8523\n",
            "Epoch 62/100\n",
            "24/24 [==============================] - 0s 1ms/step - loss: 0.3972 - accuracy: 0.8397\n",
            "Epoch 63/100\n",
            "24/24 [==============================] - 0s 1ms/step - loss: 0.3825 - accuracy: 0.8481\n",
            "Epoch 64/100\n",
            "24/24 [==============================] - 0s 1ms/step - loss: 0.3959 - accuracy: 0.8270\n",
            "Epoch 65/100\n",
            "24/24 [==============================] - 0s 1ms/step - loss: 0.3878 - accuracy: 0.8270\n",
            "Epoch 66/100\n",
            "24/24 [==============================] - 0s 1ms/step - loss: 0.3747 - accuracy: 0.8523\n",
            "Epoch 67/100\n",
            "24/24 [==============================] - 0s 1ms/step - loss: 0.3743 - accuracy: 0.8650\n",
            "Epoch 68/100\n",
            "24/24 [==============================] - 0s 1ms/step - loss: 0.3710 - accuracy: 0.8523\n",
            "Epoch 69/100\n",
            "24/24 [==============================] - 0s 1ms/step - loss: 0.3740 - accuracy: 0.8565\n",
            "Epoch 70/100\n",
            "24/24 [==============================] - 0s 1ms/step - loss: 0.3656 - accuracy: 0.8650\n",
            "Epoch 71/100\n",
            "24/24 [==============================] - 0s 1ms/step - loss: 0.3788 - accuracy: 0.8439\n",
            "Epoch 72/100\n",
            "24/24 [==============================] - 0s 973us/step - loss: 0.3880 - accuracy: 0.8523\n",
            "Epoch 73/100\n",
            "24/24 [==============================] - 0s 1ms/step - loss: 0.3798 - accuracy: 0.8354\n",
            "Epoch 74/100\n",
            "24/24 [==============================] - 0s 1ms/step - loss: 0.3755 - accuracy: 0.8608\n",
            "Epoch 75/100\n",
            "24/24 [==============================] - 0s 1ms/step - loss: 0.3715 - accuracy: 0.8481\n",
            "Epoch 76/100\n",
            "24/24 [==============================] - 0s 1ms/step - loss: 0.3772 - accuracy: 0.8608\n",
            "Epoch 77/100\n",
            "24/24 [==============================] - 0s 1ms/step - loss: 0.3827 - accuracy: 0.8397\n",
            "Epoch 78/100\n",
            "24/24 [==============================] - 0s 1ms/step - loss: 0.3756 - accuracy: 0.8439\n",
            "Epoch 79/100\n",
            "24/24 [==============================] - 0s 1ms/step - loss: 0.3730 - accuracy: 0.8565\n",
            "Epoch 80/100\n",
            "24/24 [==============================] - 0s 1ms/step - loss: 0.3669 - accuracy: 0.8397\n",
            "Epoch 81/100\n",
            "24/24 [==============================] - 0s 1ms/step - loss: 0.3682 - accuracy: 0.8608\n",
            "Epoch 82/100\n",
            "24/24 [==============================] - 0s 1ms/step - loss: 0.3567 - accuracy: 0.8565\n",
            "Epoch 83/100\n",
            "24/24 [==============================] - 0s 1ms/step - loss: 0.3604 - accuracy: 0.8650\n",
            "Epoch 84/100\n",
            "24/24 [==============================] - 0s 996us/step - loss: 0.3833 - accuracy: 0.8523\n",
            "Epoch 85/100\n",
            "24/24 [==============================] - 0s 1ms/step - loss: 0.3644 - accuracy: 0.8608\n",
            "Epoch 86/100\n",
            "24/24 [==============================] - 0s 1ms/step - loss: 0.3805 - accuracy: 0.8354\n",
            "Epoch 87/100\n",
            "24/24 [==============================] - 0s 1ms/step - loss: 0.3610 - accuracy: 0.8523\n",
            "Epoch 88/100\n",
            "24/24 [==============================] - 0s 960us/step - loss: 0.3636 - accuracy: 0.8439\n",
            "Epoch 89/100\n",
            "24/24 [==============================] - 0s 974us/step - loss: 0.3714 - accuracy: 0.8481\n",
            "Epoch 90/100\n",
            "24/24 [==============================] - 0s 1ms/step - loss: 0.3753 - accuracy: 0.8565\n",
            "Epoch 91/100\n",
            "24/24 [==============================] - 0s 1ms/step - loss: 0.3958 - accuracy: 0.8270\n",
            "Epoch 92/100\n",
            "24/24 [==============================] - 0s 1ms/step - loss: 0.3946 - accuracy: 0.8481\n",
            "Epoch 93/100\n",
            "24/24 [==============================] - 0s 1ms/step - loss: 0.3483 - accuracy: 0.8565\n",
            "Epoch 94/100\n",
            "24/24 [==============================] - 0s 1ms/step - loss: 0.3682 - accuracy: 0.8481\n",
            "Epoch 95/100\n",
            "24/24 [==============================] - 0s 1ms/step - loss: 0.3833 - accuracy: 0.8312\n",
            "Epoch 96/100\n",
            "24/24 [==============================] - 0s 978us/step - loss: 0.3679 - accuracy: 0.8608\n",
            "Epoch 97/100\n",
            "24/24 [==============================] - 0s 1ms/step - loss: 0.3628 - accuracy: 0.8523\n",
            "Epoch 98/100\n",
            "24/24 [==============================] - 0s 1ms/step - loss: 0.3710 - accuracy: 0.8565\n",
            "Epoch 99/100\n",
            "24/24 [==============================] - 0s 1ms/step - loss: 0.3727 - accuracy: 0.8608\n",
            "Epoch 100/100\n",
            "24/24 [==============================] - 0s 1ms/step - loss: 0.3634 - accuracy: 0.8565\n"
          ],
          "name": "stdout"
        },
        {
          "output_type": "execute_result",
          "data": {
            "text/plain": [
              "<tensorflow.python.keras.callbacks.History at 0x7f004e9955c0>"
            ]
          },
          "metadata": {
            "tags": []
          },
          "execution_count": 48
        }
      ]
    },
    {
      "cell_type": "markdown",
      "metadata": {
        "id": "hulXkaAaXDz8"
      },
      "source": [
        "### **Results and metrics**\n",
        "\n",
        "Test the performance of both our categorical model and binary model on the testing dataset."
      ]
    },
    {
      "cell_type": "code",
      "metadata": {
        "id": "HnbJXLZxW4pw",
        "outputId": "5781600a-da32-42db-d0bc-cfeef83b017f",
        "colab": {
          "base_uri": "https://localhost:8080/"
        }
      },
      "source": [
        "# Test on categorical model\n",
        "from sklearn.metrics import classification_report, accuracy_score\n",
        "\n",
        "categorical_pred = np.argmax(model.predict(X_test), axis=1)\n",
        "\n",
        "print(\"Results for categorical model\")\n",
        "print(\"Accuracy score: {}\".format(accuracy_score(y_test, categorical_pred)))\n",
        "print(\"Classification report: \")\n",
        "print(classification_report(y_test, categorical_pred))"
      ],
      "execution_count": 49,
      "outputs": [
        {
          "output_type": "stream",
          "text": [
            "Results for categorical model\n",
            "Accuracy score: 0.5\n",
            "Classification report: \n",
            "              precision    recall  f1-score   support\n",
            "\n",
            "           0       0.62      0.96      0.75        25\n",
            "           1       0.00      0.00      0.00        15\n",
            "           2       0.00      0.00      0.00         9\n",
            "           3       0.29      1.00      0.44         6\n",
            "           4       0.00      0.00      0.00         5\n",
            "\n",
            "    accuracy                           0.50        60\n",
            "   macro avg       0.18      0.39      0.24        60\n",
            "weighted avg       0.28      0.50      0.36        60\n",
            "\n"
          ],
          "name": "stdout"
        },
        {
          "output_type": "stream",
          "text": [
            "/usr/local/lib/python3.6/dist-packages/sklearn/metrics/_classification.py:1272: UndefinedMetricWarning: Precision and F-score are ill-defined and being set to 0.0 in labels with no predicted samples. Use `zero_division` parameter to control this behavior.\n",
            "  _warn_prf(average, modifier, msg_start, len(result))\n"
          ],
          "name": "stderr"
        }
      ]
    },
    {
      "cell_type": "code",
      "metadata": {
        "id": "NHAvAHzdXMn8",
        "outputId": "65f29118-7140-4066-ed46-cf5b9dd07d86",
        "colab": {
          "base_uri": "https://localhost:8080/"
        }
      },
      "source": [
        "# Test on binary model\n",
        "binary_pred = np.round(binary_model.predict(X_test)).astype(int)\n",
        "\n",
        "print(\"Results for categorical model\")\n",
        "print(\"Accuracy score: {}\".format(accuracy_score(y_test_binary, binary_pred)))\n",
        "print(\"Classification report: \")\n",
        "print(classification_report(y_test_binary, binary_pred))"
      ],
      "execution_count": 50,
      "outputs": [
        {
          "output_type": "stream",
          "text": [
            "Results for categorical model\n",
            "Accuracy score: 0.7833333333333333\n",
            "Classification report: \n",
            "              precision    recall  f1-score   support\n",
            "\n",
            "           0       0.68      0.92      0.78        25\n",
            "           1       0.92      0.69      0.79        35\n",
            "\n",
            "    accuracy                           0.78        60\n",
            "   macro avg       0.80      0.80      0.78        60\n",
            "weighted avg       0.82      0.78      0.78        60\n",
            "\n"
          ],
          "name": "stdout"
        }
      ]
    },
    {
      "cell_type": "code",
      "metadata": {
        "id": "XKVdtHnFXRlF"
      },
      "source": [
        ""
      ],
      "execution_count": null,
      "outputs": []
    }
  ]
}